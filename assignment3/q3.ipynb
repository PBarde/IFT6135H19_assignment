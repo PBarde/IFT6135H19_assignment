{
 "cells": [
  {
   "cell_type": "markdown",
   "metadata": {},
   "source": [
    "# Assignment 3 - Q3 (SVHN)"
   ]
  },
  {
   "cell_type": "code",
   "execution_count": 30,
   "metadata": {},
   "outputs": [
    {
     "name": "stdout",
     "output_type": "stream",
     "text": [
      "Using cuda\n"
     ]
    }
   ],
   "source": [
    "import torch\n",
    "from torch import nn\n",
    "from torch.autograd import  Variable\n",
    "from torch import optim\n",
    "from torch.functional import F\n",
    "from classify_svhn import get_data_loader\n",
    "\n",
    "import GAN  # needed to allow the reload\n",
    "import vae\n",
    "import importlib\n",
    "importlib.reload(GAN)\n",
    "importlib.reload(vae)\n",
    "from GAN import Generator, Discriminator\n",
    "from vae import VAE\n",
    "\n",
    "import matplotlib.pyplot as plt\n",
    "\n",
    "lr = 0.0001\n",
    "betas = (0, 0.9)\n",
    "batch_size = 64\n",
    "z_size = 100\n",
    "im_size = 32\n",
    "n_critic = 5\n",
    "num_epoch = 10\n",
    "\n",
    "if torch.cuda.is_available():\n",
    "    print(\"Using cuda\")\n",
    "    device = torch.device(\"cuda\")\n",
    "else:\n",
    "    print(\"Running on cpu\")\n",
    "    device = torch.device(\"cpu\")\n",
    "    \n",
    "vae_model = VAE(type='SVHN').to(device)\n",
    "vae_optim = optim.Adam(vae_model.parameters(), lr=lr, betas=betas)\n",
    "    \n",
    "G = Generator(z_size).to(device)\n",
    "D = Discriminator(im_size, device).to(device)\n",
    "\n",
    "g_optim = optim.Adam(G.parameters(), lr=lr, betas=betas)\n",
    "d_optim = optim.Adam(D.parameters(), lr=lr, betas=betas)"
   ]
  },
  {
   "cell_type": "code",
   "execution_count": null,
   "metadata": {},
   "outputs": [],
   "source": []
  },
  {
   "cell_type": "markdown",
   "metadata": {},
   "source": [
    "## Data"
   ]
  },
  {
   "cell_type": "code",
   "execution_count": 3,
   "metadata": {},
   "outputs": [
    {
     "name": "stdout",
     "output_type": "stream",
     "text": [
      "Downloading http://ufldl.stanford.edu/housenumbers/train_32x32.mat to svhn\\train_32x32.mat\n",
      "Downloading http://ufldl.stanford.edu/housenumbers/test_32x32.mat to svhn\\test_32x32.mat\n"
     ]
    },
    {
     "data": {
      "image/png": "[encoded data removed]",
      "text/plain": [
       "<Figure size 432x288 with 1 Axes>"
      ]
     },
     "metadata": {
      "needs_background": "light"
     },
     "output_type": "display_data"
    }
   ],
   "source": [
    "def showImg(x):\n",
    "    x = x.permute(1, 2, 0)\n",
    "    plt.imshow((x.numpy() * 0.5) + 0.5)\n",
    "    \n",
    "train_loader, valid_loader, test_loader = get_data_loader(\"svhn\", batch_size)\n",
    "\n",
    "# Show an image\n",
    "real_sample, target = next(iter(train_loader))\n",
    "\n",
    "showImg(real_sample[0])"
   ]
  },
  {
   "cell_type": "code",
   "execution_count": null,
   "metadata": {},
   "outputs": [],
   "source": [
    "def train(loader):\n",
    "    d_train_loss = 0\n",
    "    \n",
    "    for epoch in range(num_epoch):\n",
    "        \n",
    "        for data_idx, real_sample in enumerate(loader):\n",
    "            G.train()\n",
    "            D.train()\n",
    "            \n",
    "            step = epoch * len(loader) + data_idx + 1\n",
    "            \n",
    "            # Train more the dicriminator\n",
    "            d_optim.zero_grad()\n",
    "            g_optim.zero_grad()\n",
    "    \n",
    "            z = Variable(torch.randn(batch_size, z_size, device=device))\n",
    "            \n",
    "            fake_sample = G(z)\n",
    "            real_sample = real_sample.to(device)\n",
    "            \n",
    "            d_loss = D.loss(real_sample, fake_sample)\n",
    "            d_loss.backward()\n",
    "            d_optim.step()\n",
    "    \n",
    "            if step % n_critic == 0:\n",
    "                # Train the generator\n",
    "                d_optim.zero_grad()\n",
    "                g_optim.zero_grad()\n",
    "            \n",
    "                z = Variable(torch.randn(batch_size, z_size, device=device))\n",
    "            \n",
    "                fake_sample = G(z)\n",
    "                fake_result = D(fake_sample)\n",
    "                g_loss = G.loss(fake_result)\n",
    "                g_loss.backward()\n",
    "                g_optim.step()\n",
    "                \n",
    "        print('====> Epoch: {} Average loss: {:.4f}'.format(\n",
    "          epoch, d_train_loss / len(loader.dataset)))\n",
    "        \n",
    "        createSample(G)"
   ]
  },
  {
   "cell_type": "code",
   "execution_count": null,
   "metadata": {},
   "outputs": [],
   "source": [
    "def createSample(generator):\n",
    "    generator.eval()\n",
    "    \n",
    "    z = Variable(torch.randn(z_size, device=device))\n",
    "    im = generator(z)\n",
    "    showImg(im)"
   ]
  },
  {
   "cell_type": "code",
   "execution_count": null,
   "metadata": {},
   "outputs": [],
   "source": [
    "train(train_loader)"
   ]
  },
  {
   "cell_type": "markdown",
   "metadata": {},
   "source": [
    "## VAE training"
   ]
  },
  {
   "cell_type": "code",
   "execution_count": 42,
   "metadata": {},
   "outputs": [],
   "source": [
    "def ELBO_loss_function(recon_x, x, mu, logvar):\n",
    "    # ELBO: L(θ, φ; x) = -E_z~q_φ[log p_θ(x|z)] + D_KL(q_φ(z|x)||p(z))\n",
    "    # reconstruction loss + regularizer (forcing the encoder's output to stay close to a standard Normal distribution)\n",
    "    # BCE = F.binary_cross_entropy(recon_x, x, reduction='sum')\n",
    "    MSE = nn.MSELoss(reduction='sum')(recon_x, x)\n",
    "\n",
    "    # see Appendix B from VAE paper:\n",
    "    # Kingma and Welling. Auto-Encoding Variational Bayes. ICLR, 2014\n",
    "    # https://arxiv.org/abs/1312.6114\n",
    "    # 0.5 * sum(1 + log(sigma^2) - mu^2 - sigma^2)\n",
    "    KLD = -0.5 * torch.sum(1 + logvar - mu.pow(2) - logvar.exp())\n",
    "    \n",
    "    batch_size = x.shape[0]\n",
    "    \n",
    "    return (MSE + KLD) / batch_size\n",
    "\n",
    "\n",
    "def train_vae(model, num_epoch, train_loader, optimizer):\n",
    "    for epoch in range(num_epoch):\n",
    "        train_loss = 0\n",
    "        for batch_idx, (data, y) in enumerate(train_loader):\n",
    "            data = data.to(device)\n",
    "            flattened_data = data.view(-1, 3072)\n",
    "            optimizer.zero_grad()\n",
    "            recon_batch, mu, logvar = model(flattened_data)\n",
    "            loss = ELBO_loss_function(recon_batch, data, mu, logvar)\n",
    "            loss.backward()\n",
    "            train_loss += loss.item()\n",
    "            optimizer.step()\n",
    "            if batch_idx % 100 == 0:\n",
    "                print('Train Epoch: {} [{}/{} ({:.0f}%)]\\tLoss: {:.6f}'.format(\n",
    "                    epoch, batch_idx * len(data), len(train_loader.dataset),\n",
    "                    100. * batch_idx / len(train_loader),\n",
    "                    loss.item()))\n",
    "\n",
    "        print('====> Epoch: {} Average loss: {:.4f}'.format(\n",
    "              epoch, train_loss / len(train_loader)))"
   ]
  },
  {
   "cell_type": "code",
   "execution_count": 43,
   "metadata": {},
   "outputs": [
    {
     "name": "stdout",
     "output_type": "stream",
     "text": [
      "Train Epoch: 0 [0/65931 (0%)]\tLoss: 365.391602\n",
      "Train Epoch: 0 [6400/65931 (10%)]\tLoss: 335.915527\n",
      "Train Epoch: 0 [12800/65931 (19%)]\tLoss: 331.953491\n",
      "Train Epoch: 0 [19200/65931 (29%)]\tLoss: 298.137360\n",
      "Train Epoch: 0 [25600/65931 (39%)]\tLoss: 329.961792\n",
      "Train Epoch: 0 [32000/65931 (48%)]\tLoss: 309.068909\n",
      "Train Epoch: 0 [38400/65931 (58%)]\tLoss: 311.034851\n",
      "Train Epoch: 0 [44800/65931 (68%)]\tLoss: 309.366821\n",
      "Train Epoch: 0 [51200/65931 (78%)]\tLoss: 311.298859\n",
      "Train Epoch: 0 [57600/65931 (87%)]\tLoss: 314.777618\n",
      "Train Epoch: 0 [64000/65931 (97%)]\tLoss: 317.983704\n",
      "====> Epoch: 0 Average loss: 325.9786\n",
      "Train Epoch: 1 [0/65931 (0%)]\tLoss: 295.957458\n",
      "Train Epoch: 1 [6400/65931 (10%)]\tLoss: 319.064331\n",
      "Train Epoch: 1 [12800/65931 (19%)]\tLoss: 263.191925\n",
      "Train Epoch: 1 [19200/65931 (29%)]\tLoss: 284.173859\n",
      "Train Epoch: 1 [25600/65931 (39%)]\tLoss: 279.227448\n",
      "Train Epoch: 1 [32000/65931 (48%)]\tLoss: 282.745361\n",
      "Train Epoch: 1 [38400/65931 (58%)]\tLoss: 286.708435\n",
      "Train Epoch: 1 [44800/65931 (68%)]\tLoss: 303.413361\n",
      "Train Epoch: 1 [51200/65931 (78%)]\tLoss: 243.051666\n",
      "Train Epoch: 1 [57600/65931 (87%)]\tLoss: 262.370056\n",
      "Train Epoch: 1 [64000/65931 (97%)]\tLoss: 290.521912\n",
      "====> Epoch: 1 Average loss: 288.0987\n",
      "Train Epoch: 2 [0/65931 (0%)]\tLoss: 233.967255\n",
      "Train Epoch: 2 [6400/65931 (10%)]\tLoss: 287.370026\n",
      "Train Epoch: 2 [12800/65931 (19%)]\tLoss: 282.708954\n",
      "Train Epoch: 2 [19200/65931 (29%)]\tLoss: 273.409729\n",
      "Train Epoch: 2 [25600/65931 (39%)]\tLoss: 269.624084\n",
      "Train Epoch: 2 [32000/65931 (48%)]\tLoss: 254.837585\n",
      "Train Epoch: 2 [38400/65931 (58%)]\tLoss: 280.771149\n",
      "Train Epoch: 2 [44800/65931 (68%)]\tLoss: 286.117126\n",
      "Train Epoch: 2 [51200/65931 (78%)]\tLoss: 274.228119\n",
      "Train Epoch: 2 [57600/65931 (87%)]\tLoss: 257.415741\n",
      "Train Epoch: 2 [64000/65931 (97%)]\tLoss: 303.683044\n",
      "====> Epoch: 2 Average loss: 275.4261\n",
      "Train Epoch: 3 [0/65931 (0%)]\tLoss: 287.715363\n",
      "Train Epoch: 3 [6400/65931 (10%)]\tLoss: 245.857819\n",
      "Train Epoch: 3 [12800/65931 (19%)]\tLoss: 261.731934\n",
      "Train Epoch: 3 [19200/65931 (29%)]\tLoss: 246.826752\n",
      "Train Epoch: 3 [25600/65931 (39%)]\tLoss: 254.964203\n",
      "Train Epoch: 3 [32000/65931 (48%)]\tLoss: 259.262268\n",
      "Train Epoch: 3 [38400/65931 (58%)]\tLoss: 320.666656\n",
      "Train Epoch: 3 [44800/65931 (68%)]\tLoss: 259.452667\n",
      "Train Epoch: 3 [51200/65931 (78%)]\tLoss: 264.027313\n",
      "Train Epoch: 3 [57600/65931 (87%)]\tLoss: 241.878769\n",
      "Train Epoch: 3 [64000/65931 (97%)]\tLoss: 245.506012\n",
      "====> Epoch: 3 Average loss: 267.9045\n",
      "Train Epoch: 4 [0/65931 (0%)]\tLoss: 274.617737\n",
      "Train Epoch: 4 [6400/65931 (10%)]\tLoss: 252.607025\n",
      "Train Epoch: 4 [12800/65931 (19%)]\tLoss: 300.824219\n",
      "Train Epoch: 4 [19200/65931 (29%)]\tLoss: 266.069214\n",
      "Train Epoch: 4 [25600/65931 (39%)]\tLoss: 253.877380\n",
      "Train Epoch: 4 [32000/65931 (48%)]\tLoss: 253.872437\n",
      "Train Epoch: 4 [38400/65931 (58%)]\tLoss: 284.868713\n",
      "Train Epoch: 4 [44800/65931 (68%)]\tLoss: 269.401581\n",
      "Train Epoch: 4 [51200/65931 (78%)]\tLoss: 291.296173\n",
      "Train Epoch: 4 [57600/65931 (87%)]\tLoss: 260.178711\n",
      "Train Epoch: 4 [64000/65931 (97%)]\tLoss: 236.306030\n",
      "====> Epoch: 4 Average loss: 263.2100\n",
      "Train Epoch: 5 [0/65931 (0%)]\tLoss: 265.992554\n",
      "Train Epoch: 5 [6400/65931 (10%)]\tLoss: 252.432510\n",
      "Train Epoch: 5 [12800/65931 (19%)]\tLoss: 252.124481\n",
      "Train Epoch: 5 [19200/65931 (29%)]\tLoss: 273.120148\n",
      "Train Epoch: 5 [25600/65931 (39%)]\tLoss: 248.163910\n",
      "Train Epoch: 5 [32000/65931 (48%)]\tLoss: 251.657715\n",
      "Train Epoch: 5 [38400/65931 (58%)]\tLoss: 262.282379\n",
      "Train Epoch: 5 [44800/65931 (68%)]\tLoss: 239.169312\n",
      "Train Epoch: 5 [51200/65931 (78%)]\tLoss: 291.176575\n",
      "Train Epoch: 5 [57600/65931 (87%)]\tLoss: 238.881348\n",
      "Train Epoch: 5 [64000/65931 (97%)]\tLoss: 240.946365\n",
      "====> Epoch: 5 Average loss: 260.1973\n",
      "Train Epoch: 6 [0/65931 (0%)]\tLoss: 243.668503\n",
      "Train Epoch: 6 [6400/65931 (10%)]\tLoss: 217.312378\n",
      "Train Epoch: 6 [12800/65931 (19%)]\tLoss: 265.939636\n",
      "Train Epoch: 6 [19200/65931 (29%)]\tLoss: 278.507294\n",
      "Train Epoch: 6 [25600/65931 (39%)]\tLoss: 258.522552\n",
      "Train Epoch: 6 [32000/65931 (48%)]\tLoss: 330.231873\n",
      "Train Epoch: 6 [38400/65931 (58%)]\tLoss: 251.164108\n",
      "Train Epoch: 6 [44800/65931 (68%)]\tLoss: 221.906784\n",
      "Train Epoch: 6 [51200/65931 (78%)]\tLoss: 284.246063\n",
      "Train Epoch: 6 [57600/65931 (87%)]\tLoss: 261.433044\n",
      "Train Epoch: 6 [64000/65931 (97%)]\tLoss: 256.483887\n",
      "====> Epoch: 6 Average loss: 258.1882\n",
      "Train Epoch: 7 [0/65931 (0%)]\tLoss: 283.032074\n",
      "Train Epoch: 7 [6400/65931 (10%)]\tLoss: 237.194412\n",
      "Train Epoch: 7 [12800/65931 (19%)]\tLoss: 299.258820\n",
      "Train Epoch: 7 [19200/65931 (29%)]\tLoss: 276.402283\n",
      "Train Epoch: 7 [25600/65931 (39%)]\tLoss: 254.242203\n",
      "Train Epoch: 7 [32000/65931 (48%)]\tLoss: 293.374512\n",
      "Train Epoch: 7 [38400/65931 (58%)]\tLoss: 268.461212\n",
      "Train Epoch: 7 [44800/65931 (68%)]\tLoss: 223.036362\n",
      "Train Epoch: 7 [51200/65931 (78%)]\tLoss: 223.352783\n",
      "Train Epoch: 7 [57600/65931 (87%)]\tLoss: 295.834839\n",
      "Train Epoch: 7 [64000/65931 (97%)]\tLoss: 273.363098\n",
      "====> Epoch: 7 Average loss: 255.9243\n",
      "Train Epoch: 8 [0/65931 (0%)]\tLoss: 301.632050\n",
      "Train Epoch: 8 [6400/65931 (10%)]\tLoss: 227.599472\n",
      "Train Epoch: 8 [12800/65931 (19%)]\tLoss: 297.749664\n",
      "Train Epoch: 8 [19200/65931 (29%)]\tLoss: 245.444290\n",
      "Train Epoch: 8 [25600/65931 (39%)]\tLoss: 268.636200\n",
      "Train Epoch: 8 [32000/65931 (48%)]\tLoss: 273.390991\n",
      "Train Epoch: 8 [38400/65931 (58%)]\tLoss: 220.967636\n",
      "Train Epoch: 8 [44800/65931 (68%)]\tLoss: 268.239746\n",
      "Train Epoch: 8 [51200/65931 (78%)]\tLoss: 207.406082\n",
      "Train Epoch: 8 [57600/65931 (87%)]\tLoss: 269.449280\n",
      "Train Epoch: 8 [64000/65931 (97%)]\tLoss: 212.694077\n",
      "====> Epoch: 8 Average loss: 254.4615\n",
      "Train Epoch: 9 [0/65931 (0%)]\tLoss: 247.066040\n",
      "Train Epoch: 9 [6400/65931 (10%)]\tLoss: 288.777985\n",
      "Train Epoch: 9 [12800/65931 (19%)]\tLoss: 233.712448\n",
      "Train Epoch: 9 [19200/65931 (29%)]\tLoss: 266.083862\n",
      "Train Epoch: 9 [25600/65931 (39%)]\tLoss: 271.432434\n",
      "Train Epoch: 9 [32000/65931 (48%)]\tLoss: 285.670166\n",
      "Train Epoch: 9 [38400/65931 (58%)]\tLoss: 259.831848\n",
      "Train Epoch: 9 [44800/65931 (68%)]\tLoss: 224.622177\n",
      "Train Epoch: 9 [51200/65931 (78%)]\tLoss: 219.157791\n",
      "Train Epoch: 9 [57600/65931 (87%)]\tLoss: 237.796631\n",
      "Train Epoch: 9 [64000/65931 (97%)]\tLoss: 239.143555\n",
      "====> Epoch: 9 Average loss: 252.8522\n"
     ]
    }
   ],
   "source": [
    "train_vae(vae_model, num_epoch, train_loader, vae_optim)"
   ]
  },
  {
   "cell_type": "code",
   "execution_count": null,
   "metadata": {},
   "outputs": [],
   "source": []
  }
 ],
 "metadata": {
  "kernelspec": {
   "display_name": "Python 3",
   "language": "python",
   "name": "python3"
  },
  "language_info": {
   "codemirror_mode": {
    "name": "ipython",
    "version": 3
   },
   "file_extension": ".py",
   "mimetype": "text/x-python",
   "name": "python",
   "nbconvert_exporter": "python",
   "pygments_lexer": "ipython3",
   "version": "3.6.6"
  }
 },
 "nbformat": 4,
 "nbformat_minor": 1
}
