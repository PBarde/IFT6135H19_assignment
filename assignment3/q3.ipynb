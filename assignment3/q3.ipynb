{
 "cells": [
  {
   "cell_type": "markdown",
   "metadata": {},
   "source": [
    "# Assignment 3 - Q3 (SVHN)"
   ]
  },
  {
   "cell_type": "code",
   "execution_count": 84,
   "metadata": {},
   "outputs": [
    {
     "name": "stdout",
     "output_type": "stream",
     "text": [
      "Using cuda\n"
     ]
    }
   ],
   "source": [
    "import os\n",
    "import torch\n",
    "from torch import nn\n",
    "import torchvision\n",
    "from torch.autograd import  Variable\n",
    "from torch import optim\n",
    "from classify_svhn import get_data_loader\n",
    "\n",
    "import GAN  # needed to allow the reload\n",
    "import importlib\n",
    "importlib.reload(GAN)\n",
    "from GAN import Generator, Discriminator\n",
    "\n",
    "import matplotlib.pyplot as plt\n",
    "\n",
    "lr = 0.0001\n",
    "betas = (0, 0.9)\n",
    "batch_size = 64\n",
    "z_size = 100\n",
    "im_size = 32\n",
    "n_critic = 5\n",
    "num_epoch = 10\n",
    "\n",
    "if torch.cuda.is_available():\n",
    "    print(\"Using cuda\")\n",
    "    device = torch.device(\"cuda\")\n",
    "else:\n",
    "    print(\"Running on cpu\")\n",
    "    device = torch.device(\"cpu\")\n",
    "    \n",
    "G = Generator(z_size).to(device)\n",
    "D = Discriminator(im_size, device).to(device)\n",
    "\n",
    "g_optim = optim.Adam(G.parameters(), lr=lr, betas=betas)\n",
    "d_optim = optim.Adam(D.parameters(), lr=lr, betas=betas)"
   ]
  },
  {
   "cell_type": "code",
   "execution_count": 139,
   "metadata": {},
   "outputs": [],
   "source": [
    "import vae\n",
    "importlib.reload(vae)\n",
    "from vae import VAE\n",
    "\n",
    "vae_model = VAE(type='SVHN-FC').to(device)\n",
    "vae_optim = optim.Adam(vae_model.parameters(), lr=lr)"
   ]
  },
  {
   "cell_type": "markdown",
   "metadata": {},
   "source": [
    "## Data"
   ]
  },
  {
   "cell_type": "code",
   "execution_count": 67,
   "metadata": {},
   "outputs": [],
   "source": [
    "def showImg(x):\n",
    "    x = x.permute(1, 2, 0)\n",
    "    plt.imshow((x.numpy() * 0.5) + 0.5)"
   ]
  },
  {
   "cell_type": "code",
   "execution_count": 3,
   "metadata": {},
   "outputs": [
    {
     "name": "stdout",
     "output_type": "stream",
     "text": [
      "Downloading http://ufldl.stanford.edu/housenumbers/train_32x32.mat to svhn\\train_32x32.mat\n",
      "Downloading http://ufldl.stanford.edu/housenumbers/test_32x32.mat to svhn\\test_32x32.mat\n"
     ]
    },
    {
     "data": {
      "image/png": "[encoded data removed]",
      "text/plain": [
       "<Figure size 432x288 with 1 Axes>"
      ]
     },
     "metadata": {
      "needs_background": "light"
     },
     "output_type": "display_data"
    }
   ],
   "source": [
    "train_loader, valid_loader, test_loader = get_data_loader(\"svhn\", batch_size)\n",
    "\n",
    "# Show an image\n",
    "real_sample, target = next(iter(train_loader))\n",
    "\n",
    "showImg(real_sample[0])"
   ]
  },
  {
   "cell_type": "code",
   "execution_count": null,
   "metadata": {},
   "outputs": [],
   "source": [
    "def train(loader):\n",
    "    d_train_loss = 0\n",
    "    \n",
    "    for epoch in range(num_epoch):\n",
    "        \n",
    "        for data_idx, real_sample in enumerate(loader):\n",
    "            G.train()\n",
    "            D.train()\n",
    "            \n",
    "            step = epoch * len(loader) + data_idx + 1\n",
    "            \n",
    "            # Train more the dicriminator\n",
    "            d_optim.zero_grad()\n",
    "            g_optim.zero_grad()\n",
    "    \n",
    "            z = Variable(torch.randn(batch_size, z_size, device=device))\n",
    "            \n",
    "            fake_sample = G(z)\n",
    "            real_sample = real_sample.to(device)\n",
    "            \n",
    "            d_loss = D.loss(real_sample, fake_sample)\n",
    "            d_loss.backward()\n",
    "            d_optim.step()\n",
    "    \n",
    "            if step % n_critic == 0:\n",
    "                # Train the generator\n",
    "                d_optim.zero_grad()\n",
    "                g_optim.zero_grad()\n",
    "            \n",
    "                z = Variable(torch.randn(batch_size, z_size, device=device))\n",
    "            \n",
    "                fake_sample = G(z)\n",
    "                fake_result = D(fake_sample)\n",
    "                g_loss = G.loss(fake_result)\n",
    "                g_loss.backward()\n",
    "                g_optim.step()\n",
    "                \n",
    "        print('====> Epoch: {} Average loss: {:.4f}'.format(\n",
    "          epoch, d_train_loss / len(loader.dataset)))\n",
    "        \n",
    "        createSample(G)"
   ]
  },
  {
   "cell_type": "code",
   "execution_count": null,
   "metadata": {},
   "outputs": [],
   "source": [
    "def createSample(generator):\n",
    "    generator.eval()\n",
    "    \n",
    "    z = Variable(torch.randn(z_size, device=device))\n",
    "    im = generator(z)\n",
    "    showImg(im)"
   ]
  },
  {
   "cell_type": "code",
   "execution_count": null,
   "metadata": {},
   "outputs": [],
   "source": [
    "train(train_loader)"
   ]
  },
  {
   "cell_type": "markdown",
   "metadata": {},
   "source": [
    "## VAE training"
   ]
  },
  {
   "cell_type": "code",
   "execution_count": 194,
   "metadata": {},
   "outputs": [],
   "source": [
    "def saveImg(x, name):\n",
    "    save_dir = 'sample/'\n",
    "    if not os.path.exists(save_dir):\n",
    "        os.mkdir(save_dir)\n",
    "    torchvision.utils.save_image(x, save_dir+name)\n",
    "\n",
    "\n",
    "def sampleLatentVariables(model):\n",
    "    return Variable(torch.randn(1, z_size, device=device))\n",
    "\n",
    "    \n",
    "def generateImageWithVAE(model, name, z=None, save=True):\n",
    "    if z is None:\n",
    "        z = sampleLatentVariables(model)\n",
    "    model.eval()\n",
    "    x = model.decode(z)\n",
    "    x = x.squeeze()\n",
    "    x = x * 0.5 + 0.5\n",
    "    if save:\n",
    "        saveImg(x, name)\n",
    "    x = x.permute(1, 2, 0)\n",
    "    plt.imshow(x.cpu().detach().numpy())"
   ]
  },
  {
   "cell_type": "code",
   "execution_count": 136,
   "metadata": {},
   "outputs": [],
   "source": [
    "def ELBO_loss_function(recon_x, x, mu, logvar):\n",
    "    # ELBO: L(θ, φ; x) = -E_z~q_φ[log p_θ(x|z)] + D_KL(q_φ(z|x)||p(z))\n",
    "    # reconstruction loss + regularizer (forcing the encoder's output to stay close to a standard Normal distribution)\n",
    "    # BCE = F.binary_cross_entropy(recon_x, x, reduction='sum')\n",
    "    MSE = nn.MSELoss(reduction='sum')(recon_x, x)\n",
    "\n",
    "    # see Appendix B from VAE paper:\n",
    "    # Kingma and Welling. Auto-Encoding Variational Bayes. ICLR, 2014\n",
    "    # https://arxiv.org/abs/1312.6114\n",
    "    # 0.5 * sum(1 + log(sigma^2) - mu^2 - sigma^2)\n",
    "    KLD = -0.5 * torch.sum(1 + logvar - mu.pow(2) - logvar.exp())\n",
    "    \n",
    "    batch_size = x.shape[0]\n",
    "    \n",
    "    return (MSE + KLD) / batch_size\n",
    "\n",
    "\n",
    "def train_vae(model, epoch, train_loader, optimizer):\n",
    "    model.train()\n",
    "    nb_examples = 0\n",
    "    train_loss = 0\n",
    "    for batch_idx, (data, y) in enumerate(train_loader):\n",
    "        data = data.to(device)\n",
    "        if model.type == 'SVHN-FC':\n",
    "            data = data.view(-1, 3072)\n",
    "        optimizer.zero_grad()\n",
    "        batch_size = data.shape[0]\n",
    "        recon_batch, mu, logvar = model(data)\n",
    "        if model.type == 'SVHN-FC':\n",
    "            data = data.view(-1, 3, 32, 32)\n",
    "        loss = ELBO_loss_function(recon_batch, data, mu, logvar)\n",
    "        loss.backward()\n",
    "        train_loss += loss.item() * batch_size\n",
    "        nb_examples += batch_size\n",
    "        optimizer.step()\n",
    "        if batch_idx % 100 == 0:\n",
    "            print('Train Epoch: {} [{}/{} ({:.0f}%)]\\tLoss: {:.6f}'.format(\n",
    "                epoch, batch_idx * len(data), len(train_loader.dataset),\n",
    "                100. * batch_idx / len(train_loader),\n",
    "                loss.item()))\n",
    "\n",
    "    print('====> Epoch: {} Average training loss: {:.4f}'.format(\n",
    "          epoch, train_loss / nb_examples))\n",
    "    \n",
    "    return train_loss / nb_examples\n",
    "\n",
    "    \n",
    "def test_vae(model, epoch, data_loader):\n",
    "    model.eval()\n",
    "    nb_examples = 0\n",
    "    test_loss = 0\n",
    "    for batch_idx, (data, y) in enumerate(data_loader):\n",
    "        data = data.to(device)\n",
    "        if model.type == 'SVHN-FC':\n",
    "            data = data.view(-1, 3072)\n",
    "        batch_size = data.shape[0]\n",
    "        recon_batch, mu, logvar = model(data)\n",
    "        if model.type == 'SVHN-FC':\n",
    "            data = data.view(-1, 3, 32, 32)\n",
    "        loss = ELBO_loss_function(recon_batch, data, mu, logvar)\n",
    "        test_loss += loss.item() * batch_size\n",
    "        nb_examples += batch_size\n",
    "#         if batch_idx % 100 == 0:\n",
    "#             print('Validation Epoch: {} [{}/{} ({:.0f}%)]\\tLoss: {:.6f}'.format(\n",
    "#                 epoch, batch_idx * len(data), len(data_loader.dataset),\n",
    "#                 100. * batch_idx / len(data_loader),\n",
    "#                 loss.item()))\n",
    "\n",
    "    print('====> Epoch: {} Average validation loss: {:.4f}'.format(\n",
    "          epoch, test_loss / nb_examples))\n",
    "    \n",
    "    return test_loss / nb_examples"
   ]
  },
  {
   "cell_type": "code",
   "execution_count": 140,
   "metadata": {},
   "outputs": [
    {
     "name": "stdout",
     "output_type": "stream",
     "text": [
      "Train Epoch: 0 [0/65931 (0%)]\tLoss: 629.496582\n",
      "Train Epoch: 0 [6400/65931 (10%)]\tLoss: 223.010666\n",
      "Train Epoch: 0 [12800/65931 (19%)]\tLoss: 168.644455\n",
      "Train Epoch: 0 [19200/65931 (29%)]\tLoss: 154.553101\n",
      "Train Epoch: 0 [25600/65931 (39%)]\tLoss: 168.070923\n",
      "Train Epoch: 0 [32000/65931 (48%)]\tLoss: 165.460205\n",
      "Train Epoch: 0 [38400/65931 (58%)]\tLoss: 149.544846\n",
      "Train Epoch: 0 [44800/65931 (68%)]\tLoss: 140.911865\n",
      "Train Epoch: 0 [51200/65931 (78%)]\tLoss: 133.640274\n",
      "Train Epoch: 0 [57600/65931 (87%)]\tLoss: 140.069351\n",
      "Train Epoch: 0 [64000/65931 (97%)]\tLoss: 143.605240\n",
      "====> Epoch: 0 Average training loss: 172.7661\n",
      "====> Epoch: 0 Average validation loss: 125.5283\n",
      "Train Epoch: 1 [0/65931 (0%)]\tLoss: 130.430145\n",
      "Train Epoch: 1 [6400/65931 (10%)]\tLoss: 134.526947\n",
      "Train Epoch: 1 [12800/65931 (19%)]\tLoss: 130.588287\n",
      "Train Epoch: 1 [19200/65931 (29%)]\tLoss: 127.075180\n",
      "Train Epoch: 1 [25600/65931 (39%)]\tLoss: 138.310623\n",
      "Train Epoch: 1 [32000/65931 (48%)]\tLoss: 114.982452\n",
      "Train Epoch: 1 [38400/65931 (58%)]\tLoss: 105.831940\n",
      "Train Epoch: 1 [44800/65931 (68%)]\tLoss: 121.690811\n",
      "Train Epoch: 1 [51200/65931 (78%)]\tLoss: 117.997803\n",
      "Train Epoch: 1 [57600/65931 (87%)]\tLoss: 107.815155\n",
      "Train Epoch: 1 [64000/65931 (97%)]\tLoss: 101.316681\n",
      "====> Epoch: 1 Average training loss: 130.1618\n",
      "====> Epoch: 1 Average validation loss: 110.1274\n",
      "Train Epoch: 2 [0/65931 (0%)]\tLoss: 126.102081\n",
      "Train Epoch: 2 [6400/65931 (10%)]\tLoss: 128.263763\n",
      "Train Epoch: 2 [12800/65931 (19%)]\tLoss: 129.448914\n",
      "Train Epoch: 2 [19200/65931 (29%)]\tLoss: 109.202652\n",
      "Train Epoch: 2 [25600/65931 (39%)]\tLoss: 116.925461\n",
      "Train Epoch: 2 [32000/65931 (48%)]\tLoss: 104.391541\n",
      "Train Epoch: 2 [38400/65931 (58%)]\tLoss: 94.611526\n",
      "Train Epoch: 2 [44800/65931 (68%)]\tLoss: 123.494293\n",
      "Train Epoch: 2 [51200/65931 (78%)]\tLoss: 128.742065\n",
      "Train Epoch: 2 [57600/65931 (87%)]\tLoss: 144.439056\n",
      "Train Epoch: 2 [64000/65931 (97%)]\tLoss: 121.687729\n",
      "====> Epoch: 2 Average training loss: 120.0547\n",
      "====> Epoch: 2 Average validation loss: 103.8085\n",
      "Train Epoch: 3 [0/65931 (0%)]\tLoss: 105.340324\n",
      "Train Epoch: 3 [6400/65931 (10%)]\tLoss: 135.472382\n",
      "Train Epoch: 3 [12800/65931 (19%)]\tLoss: 142.437164\n",
      "Train Epoch: 3 [19200/65931 (29%)]\tLoss: 135.768875\n",
      "Train Epoch: 3 [25600/65931 (39%)]\tLoss: 124.046204\n",
      "Train Epoch: 3 [32000/65931 (48%)]\tLoss: 129.763840\n",
      "Train Epoch: 3 [38400/65931 (58%)]\tLoss: 119.923759\n",
      "Train Epoch: 3 [44800/65931 (68%)]\tLoss: 109.036522\n",
      "Train Epoch: 3 [51200/65931 (78%)]\tLoss: 113.718597\n",
      "Train Epoch: 3 [57600/65931 (87%)]\tLoss: 97.574989\n",
      "Train Epoch: 3 [64000/65931 (97%)]\tLoss: 94.794525\n",
      "====> Epoch: 3 Average training loss: 115.7088\n",
      "====> Epoch: 3 Average validation loss: 100.8774\n",
      "Train Epoch: 4 [0/65931 (0%)]\tLoss: 105.580284\n",
      "Train Epoch: 4 [6400/65931 (10%)]\tLoss: 109.555237\n",
      "Train Epoch: 4 [12800/65931 (19%)]\tLoss: 102.356873\n",
      "Train Epoch: 4 [19200/65931 (29%)]\tLoss: 122.432579\n",
      "Train Epoch: 4 [25600/65931 (39%)]\tLoss: 115.997101\n",
      "Train Epoch: 4 [32000/65931 (48%)]\tLoss: 127.964706\n",
      "Train Epoch: 4 [38400/65931 (58%)]\tLoss: 103.282257\n",
      "Train Epoch: 4 [44800/65931 (68%)]\tLoss: 109.601791\n",
      "Train Epoch: 4 [51200/65931 (78%)]\tLoss: 115.373154\n",
      "Train Epoch: 4 [57600/65931 (87%)]\tLoss: 128.858795\n",
      "Train Epoch: 4 [64000/65931 (97%)]\tLoss: 114.456696\n",
      "====> Epoch: 4 Average training loss: 113.3657\n",
      "====> Epoch: 4 Average validation loss: 99.9266\n",
      "Train Epoch: 5 [0/65931 (0%)]\tLoss: 116.922043\n",
      "Train Epoch: 5 [6400/65931 (10%)]\tLoss: 114.703003\n",
      "Train Epoch: 5 [12800/65931 (19%)]\tLoss: 110.188141\n",
      "Train Epoch: 5 [19200/65931 (29%)]\tLoss: 105.329468\n",
      "Train Epoch: 5 [25600/65931 (39%)]\tLoss: 109.697311\n",
      "Train Epoch: 5 [32000/65931 (48%)]\tLoss: 103.548958\n",
      "Train Epoch: 5 [38400/65931 (58%)]\tLoss: 121.677170\n",
      "Train Epoch: 5 [44800/65931 (68%)]\tLoss: 132.698517\n",
      "Train Epoch: 5 [51200/65931 (78%)]\tLoss: 112.920990\n",
      "Train Epoch: 5 [57600/65931 (87%)]\tLoss: 97.567596\n",
      "Train Epoch: 5 [64000/65931 (97%)]\tLoss: 108.080536\n",
      "====> Epoch: 5 Average training loss: 110.8276\n",
      "====> Epoch: 5 Average validation loss: 102.4813\n",
      "Train Epoch: 6 [0/65931 (0%)]\tLoss: 130.083969\n",
      "Train Epoch: 6 [6400/65931 (10%)]\tLoss: 159.665802\n",
      "Train Epoch: 6 [12800/65931 (19%)]\tLoss: 122.629158\n",
      "Train Epoch: 6 [19200/65931 (29%)]\tLoss: 106.518341\n",
      "Train Epoch: 6 [25600/65931 (39%)]\tLoss: 112.468201\n",
      "Train Epoch: 6 [32000/65931 (48%)]\tLoss: 109.450623\n",
      "Train Epoch: 6 [38400/65931 (58%)]\tLoss: 103.486099\n",
      "Train Epoch: 6 [44800/65931 (68%)]\tLoss: 109.487602\n",
      "Train Epoch: 6 [51200/65931 (78%)]\tLoss: 120.808044\n",
      "Train Epoch: 6 [57600/65931 (87%)]\tLoss: 97.121681\n",
      "Train Epoch: 6 [64000/65931 (97%)]\tLoss: 120.623726\n",
      "====> Epoch: 6 Average training loss: 110.1157\n",
      "====> Epoch: 6 Average validation loss: 99.8931\n",
      "Train Epoch: 7 [0/65931 (0%)]\tLoss: 115.295006\n",
      "Train Epoch: 7 [6400/65931 (10%)]\tLoss: 93.171753\n",
      "Train Epoch: 7 [12800/65931 (19%)]\tLoss: 101.023712\n",
      "Train Epoch: 7 [19200/65931 (29%)]\tLoss: 100.904137\n",
      "Train Epoch: 7 [25600/65931 (39%)]\tLoss: 130.975266\n",
      "Train Epoch: 7 [32000/65931 (48%)]\tLoss: 110.218811\n",
      "Train Epoch: 7 [38400/65931 (58%)]\tLoss: 108.081818\n",
      "Train Epoch: 7 [44800/65931 (68%)]\tLoss: 86.289230\n",
      "Train Epoch: 7 [51200/65931 (78%)]\tLoss: 111.098442\n",
      "Train Epoch: 7 [57600/65931 (87%)]\tLoss: 99.198090\n",
      "Train Epoch: 7 [64000/65931 (97%)]\tLoss: 137.851654\n",
      "====> Epoch: 7 Average training loss: 108.4359\n",
      "====> Epoch: 7 Average validation loss: 100.0699\n",
      "Train Epoch: 8 [0/65931 (0%)]\tLoss: 103.659538\n",
      "Train Epoch: 8 [6400/65931 (10%)]\tLoss: 106.986229\n",
      "Train Epoch: 8 [12800/65931 (19%)]\tLoss: 103.686447\n",
      "Train Epoch: 8 [19200/65931 (29%)]\tLoss: 98.805450\n",
      "Train Epoch: 8 [25600/65931 (39%)]\tLoss: 111.186035\n",
      "Train Epoch: 8 [32000/65931 (48%)]\tLoss: 95.530457\n",
      "Train Epoch: 8 [38400/65931 (58%)]\tLoss: 118.674217\n",
      "Train Epoch: 8 [44800/65931 (68%)]\tLoss: 104.323029\n",
      "Train Epoch: 8 [51200/65931 (78%)]\tLoss: 116.275833\n",
      "Train Epoch: 8 [57600/65931 (87%)]\tLoss: 102.283615\n",
      "Train Epoch: 8 [64000/65931 (97%)]\tLoss: 101.626251\n",
      "====> Epoch: 8 Average training loss: 107.5871\n",
      "====> Epoch: 8 Average validation loss: 96.6914\n",
      "Train Epoch: 9 [0/65931 (0%)]\tLoss: 92.631927\n",
      "Train Epoch: 9 [6400/65931 (10%)]\tLoss: 117.908737\n",
      "Train Epoch: 9 [12800/65931 (19%)]\tLoss: 92.206207\n",
      "Train Epoch: 9 [19200/65931 (29%)]\tLoss: 107.346176\n",
      "Train Epoch: 9 [25600/65931 (39%)]\tLoss: 94.861877\n",
      "Train Epoch: 9 [32000/65931 (48%)]\tLoss: 120.739738\n",
      "Train Epoch: 9 [38400/65931 (58%)]\tLoss: 108.287376\n",
      "Train Epoch: 9 [44800/65931 (68%)]\tLoss: 124.261177\n",
      "Train Epoch: 9 [51200/65931 (78%)]\tLoss: 106.271172\n",
      "Train Epoch: 9 [57600/65931 (87%)]\tLoss: 98.429916\n",
      "Train Epoch: 9 [64000/65931 (97%)]\tLoss: 122.725365\n",
      "====> Epoch: 9 Average training loss: 106.5133\n",
      "====> Epoch: 9 Average validation loss: 95.7191\n",
      "Train Epoch: 10 [0/65931 (0%)]\tLoss: 160.394363\n",
      "Train Epoch: 10 [6400/65931 (10%)]\tLoss: 96.185890\n",
      "Train Epoch: 10 [12800/65931 (19%)]\tLoss: 99.400085\n",
      "Train Epoch: 10 [19200/65931 (29%)]\tLoss: 112.441910\n",
      "Train Epoch: 10 [25600/65931 (39%)]\tLoss: 103.844994\n",
      "Train Epoch: 10 [32000/65931 (48%)]\tLoss: 117.016663\n",
      "Train Epoch: 10 [38400/65931 (58%)]\tLoss: 107.999405\n",
      "Train Epoch: 10 [44800/65931 (68%)]\tLoss: 111.636452\n",
      "Train Epoch: 10 [51200/65931 (78%)]\tLoss: 108.098679\n",
      "Train Epoch: 10 [57600/65931 (87%)]\tLoss: 111.940231\n",
      "Train Epoch: 10 [64000/65931 (97%)]\tLoss: 93.220848\n",
      "====> Epoch: 10 Average training loss: 105.2977\n",
      "====> Epoch: 10 Average validation loss: 94.9678\n",
      "Train Epoch: 11 [0/65931 (0%)]\tLoss: 101.377747\n",
      "Train Epoch: 11 [6400/65931 (10%)]\tLoss: 101.009811\n",
      "Train Epoch: 11 [12800/65931 (19%)]\tLoss: 102.156693\n",
      "Train Epoch: 11 [19200/65931 (29%)]\tLoss: 110.451065\n",
      "Train Epoch: 11 [25600/65931 (39%)]\tLoss: 99.401382\n",
      "Train Epoch: 11 [32000/65931 (48%)]\tLoss: 102.136864\n",
      "Train Epoch: 11 [38400/65931 (58%)]\tLoss: 112.668907\n",
      "Train Epoch: 11 [44800/65931 (68%)]\tLoss: 109.429642\n",
      "Train Epoch: 11 [51200/65931 (78%)]\tLoss: 102.617325\n",
      "Train Epoch: 11 [57600/65931 (87%)]\tLoss: 128.759460\n",
      "Train Epoch: 11 [64000/65931 (97%)]\tLoss: 94.590149\n",
      "====> Epoch: 11 Average training loss: 105.0857\n",
      "====> Epoch: 11 Average validation loss: 94.9171\n",
      "Train Epoch: 12 [0/65931 (0%)]\tLoss: 105.545410\n",
      "Train Epoch: 12 [6400/65931 (10%)]\tLoss: 103.935471\n",
      "Train Epoch: 12 [12800/65931 (19%)]\tLoss: 113.554382\n",
      "Train Epoch: 12 [19200/65931 (29%)]\tLoss: 104.755737\n",
      "Train Epoch: 12 [25600/65931 (39%)]\tLoss: 92.860306\n"
     ]
    },
    {
     "name": "stdout",
     "output_type": "stream",
     "text": [
      "Train Epoch: 12 [32000/65931 (48%)]\tLoss: 96.439301\n",
      "Train Epoch: 12 [38400/65931 (58%)]\tLoss: 111.918633\n",
      "Train Epoch: 12 [44800/65931 (68%)]\tLoss: 114.648285\n",
      "Train Epoch: 12 [51200/65931 (78%)]\tLoss: 99.554962\n",
      "Train Epoch: 12 [57600/65931 (87%)]\tLoss: 105.494461\n",
      "Train Epoch: 12 [64000/65931 (97%)]\tLoss: 95.803261\n",
      "====> Epoch: 12 Average training loss: 104.4148\n",
      "====> Epoch: 12 Average validation loss: 92.5283\n",
      "Train Epoch: 13 [0/65931 (0%)]\tLoss: 100.524727\n",
      "Train Epoch: 13 [6400/65931 (10%)]\tLoss: 104.551949\n",
      "Train Epoch: 13 [12800/65931 (19%)]\tLoss: 123.475624\n",
      "Train Epoch: 13 [19200/65931 (29%)]\tLoss: 110.197205\n",
      "Train Epoch: 13 [25600/65931 (39%)]\tLoss: 102.086380\n",
      "Train Epoch: 13 [32000/65931 (48%)]\tLoss: 102.449799\n",
      "Train Epoch: 13 [38400/65931 (58%)]\tLoss: 107.548660\n",
      "Train Epoch: 13 [44800/65931 (68%)]\tLoss: 105.652580\n",
      "Train Epoch: 13 [51200/65931 (78%)]\tLoss: 92.953476\n",
      "Train Epoch: 13 [57600/65931 (87%)]\tLoss: 91.351067\n",
      "Train Epoch: 13 [64000/65931 (97%)]\tLoss: 100.826561\n",
      "====> Epoch: 13 Average training loss: 103.7058\n",
      "====> Epoch: 13 Average validation loss: 95.6563\n",
      "Train Epoch: 14 [0/65931 (0%)]\tLoss: 100.002609\n",
      "Train Epoch: 14 [6400/65931 (10%)]\tLoss: 98.179939\n",
      "Train Epoch: 14 [12800/65931 (19%)]\tLoss: 108.250504\n",
      "Train Epoch: 14 [19200/65931 (29%)]\tLoss: 89.814835\n",
      "Train Epoch: 14 [25600/65931 (39%)]\tLoss: 98.493698\n",
      "Train Epoch: 14 [32000/65931 (48%)]\tLoss: 107.529205\n",
      "Train Epoch: 14 [38400/65931 (58%)]\tLoss: 116.540253\n",
      "Train Epoch: 14 [44800/65931 (68%)]\tLoss: 92.461853\n",
      "Train Epoch: 14 [51200/65931 (78%)]\tLoss: 125.848953\n",
      "Train Epoch: 14 [57600/65931 (87%)]\tLoss: 100.446228\n",
      "Train Epoch: 14 [64000/65931 (97%)]\tLoss: 101.945190\n",
      "====> Epoch: 14 Average training loss: 102.8021\n",
      "====> Epoch: 14 Average validation loss: 92.3934\n",
      "Train Epoch: 15 [0/65931 (0%)]\tLoss: 85.327805\n",
      "Train Epoch: 15 [6400/65931 (10%)]\tLoss: 105.137405\n",
      "Train Epoch: 15 [12800/65931 (19%)]\tLoss: 100.681595\n",
      "Train Epoch: 15 [19200/65931 (29%)]\tLoss: 153.682739\n",
      "Train Epoch: 15 [25600/65931 (39%)]\tLoss: 108.518402\n",
      "Train Epoch: 15 [32000/65931 (48%)]\tLoss: 100.899307\n",
      "Train Epoch: 15 [38400/65931 (58%)]\tLoss: 95.318420\n",
      "Train Epoch: 15 [44800/65931 (68%)]\tLoss: 104.305542\n",
      "Train Epoch: 15 [51200/65931 (78%)]\tLoss: 100.243668\n",
      "Train Epoch: 15 [57600/65931 (87%)]\tLoss: 103.025291\n",
      "Train Epoch: 15 [64000/65931 (97%)]\tLoss: 87.048828\n",
      "====> Epoch: 15 Average training loss: 102.6295\n",
      "====> Epoch: 15 Average validation loss: 93.7364\n",
      "Train Epoch: 16 [0/65931 (0%)]\tLoss: 109.880722\n",
      "Train Epoch: 16 [6400/65931 (10%)]\tLoss: 93.529564\n",
      "Train Epoch: 16 [12800/65931 (19%)]\tLoss: 93.954346\n",
      "Train Epoch: 16 [19200/65931 (29%)]\tLoss: 98.058426\n",
      "Train Epoch: 16 [25600/65931 (39%)]\tLoss: 102.052765\n",
      "Train Epoch: 16 [32000/65931 (48%)]\tLoss: 83.431702\n",
      "Train Epoch: 16 [38400/65931 (58%)]\tLoss: 104.176697\n",
      "Train Epoch: 16 [44800/65931 (68%)]\tLoss: 89.866943\n",
      "Train Epoch: 16 [51200/65931 (78%)]\tLoss: 94.001968\n",
      "Train Epoch: 16 [57600/65931 (87%)]\tLoss: 98.981194\n",
      "Train Epoch: 16 [64000/65931 (97%)]\tLoss: 100.607880\n",
      "====> Epoch: 16 Average training loss: 101.5502\n",
      "====> Epoch: 16 Average validation loss: 93.1792\n",
      "Train Epoch: 17 [0/65931 (0%)]\tLoss: 111.100586\n",
      "Train Epoch: 17 [6400/65931 (10%)]\tLoss: 115.611053\n",
      "Train Epoch: 17 [12800/65931 (19%)]\tLoss: 97.963524\n",
      "Train Epoch: 17 [19200/65931 (29%)]\tLoss: 100.802658\n",
      "Train Epoch: 17 [25600/65931 (39%)]\tLoss: 93.040222\n",
      "Train Epoch: 17 [32000/65931 (48%)]\tLoss: 118.891998\n",
      "Train Epoch: 17 [38400/65931 (58%)]\tLoss: 114.547745\n",
      "Train Epoch: 17 [44800/65931 (68%)]\tLoss: 96.737602\n",
      "Train Epoch: 17 [51200/65931 (78%)]\tLoss: 111.993431\n",
      "Train Epoch: 17 [57600/65931 (87%)]\tLoss: 96.992897\n",
      "Train Epoch: 17 [64000/65931 (97%)]\tLoss: 115.311447\n",
      "====> Epoch: 17 Average training loss: 100.9595\n",
      "====> Epoch: 17 Average validation loss: 95.0700\n",
      "Train Epoch: 18 [0/65931 (0%)]\tLoss: 110.782257\n",
      "Train Epoch: 18 [6400/65931 (10%)]\tLoss: 97.875839\n",
      "Train Epoch: 18 [12800/65931 (19%)]\tLoss: 115.762543\n",
      "Train Epoch: 18 [19200/65931 (29%)]\tLoss: 103.011261\n",
      "Train Epoch: 18 [25600/65931 (39%)]\tLoss: 103.229805\n",
      "Train Epoch: 18 [32000/65931 (48%)]\tLoss: 108.938713\n",
      "Train Epoch: 18 [38400/65931 (58%)]\tLoss: 108.321686\n",
      "Train Epoch: 18 [44800/65931 (68%)]\tLoss: 106.108284\n",
      "Train Epoch: 18 [51200/65931 (78%)]\tLoss: 88.551132\n",
      "Train Epoch: 18 [57600/65931 (87%)]\tLoss: 103.846062\n",
      "Train Epoch: 18 [64000/65931 (97%)]\tLoss: 99.578217\n",
      "====> Epoch: 18 Average training loss: 101.1159\n",
      "====> Epoch: 18 Average validation loss: 91.7970\n",
      "Train Epoch: 19 [0/65931 (0%)]\tLoss: 104.867119\n",
      "Train Epoch: 19 [6400/65931 (10%)]\tLoss: 103.543228\n",
      "Train Epoch: 19 [12800/65931 (19%)]\tLoss: 88.883614\n",
      "Train Epoch: 19 [19200/65931 (29%)]\tLoss: 99.331909\n",
      "Train Epoch: 19 [25600/65931 (39%)]\tLoss: 88.853737\n",
      "Train Epoch: 19 [32000/65931 (48%)]\tLoss: 100.291077\n",
      "Train Epoch: 19 [38400/65931 (58%)]\tLoss: 92.233490\n",
      "Train Epoch: 19 [44800/65931 (68%)]\tLoss: 112.174469\n",
      "Train Epoch: 19 [51200/65931 (78%)]\tLoss: 106.670715\n",
      "Train Epoch: 19 [57600/65931 (87%)]\tLoss: 102.541382\n",
      "Train Epoch: 19 [64000/65931 (97%)]\tLoss: 104.087151\n",
      "====> Epoch: 19 Average training loss: 100.4673\n",
      "====> Epoch: 19 Average validation loss: 90.7834\n"
     ]
    },
    {
     "data": {
      "image/png": "[encoded data removed]",
      "text/plain": [
       "<Figure size 432x288 with 1 Axes>"
      ]
     },
     "metadata": {
      "needs_background": "light"
     },
     "output_type": "display_data"
    }
   ],
   "source": [
    "losses = []\n",
    "for epoch in range(20):\n",
    "    train_loss = train_vae(vae_model, epoch, train_loader, vae_optim)\n",
    "    test_loss = test_vae(vae_model, epoch, valid_loader)\n",
    "    losses.append((train_loss, test_loss))\n",
    "    generateImageWithVAE(vae_model, f\"VAE_{vae_model.type}_epoch_{epoch}.jpg\")"
   ]
  },
  {
   "cell_type": "code",
   "execution_count": 141,
   "metadata": {},
   "outputs": [
    {
     "data": {
      "image/png": "[encoded data removed]",
      "text/plain": [
       "<Figure size 432x288 with 1 Axes>"
      ]
     },
     "metadata": {
      "needs_background": "light"
     },
     "output_type": "display_data"
    }
   ],
   "source": [
    "for i in range(1000):\n",
    "    generateImageWithVAE(vae_model, f\"VAE_{vae_model.type}_20epochs_{i}.jpg\")"
   ]
  },
  {
   "cell_type": "code",
   "execution_count": 126,
   "metadata": {},
   "outputs": [],
   "source": [
    "torch.save(vae_model.state_dict(), 'vae_svhn_conv_50.pt')"
   ]
  },
  {
   "cell_type": "code",
   "execution_count": 143,
   "metadata": {},
   "outputs": [],
   "source": [
    "training_losses = [172.7661, 130.1618, 120.0547, 115.7088, 113.3657, 110.8276, 110.1157, 108.4359, 107.5871, 106.5133, 105.2977, 105.0857, 104.4148, 103.7058, 102.8021, 102.6295, 101.5502, 100.9595, 101.1159, 100.4673]\n",
    "validation_losses = [125.5283, 110.1274, 103.8085, 100.8774, 99.9266, 102.4813, 99.8931, 100.0699, 96.6914, 95.7191, 94.9678, 94.9171, 92.5283, 95.6563, 92.3934, 93.7364, 93.1792, 95.0700, 91.7970, 90.7834]"
   ]
  },
  {
   "cell_type": "markdown",
   "metadata": {},
   "source": [
    "## Latent variables perturbation"
   ]
  },
  {
   "cell_type": "code",
   "execution_count": 242,
   "metadata": {},
   "outputs": [
    {
     "data": {
      "image/png": "[encoded data removed]",
      "text/plain": [
       "<Figure size 432x288 with 1 Axes>"
      ]
     },
     "metadata": {
      "needs_background": "light"
     },
     "output_type": "display_data"
    }
   ],
   "source": [
    "# latent_variables = sampleLatentVariables(vae_model)\n",
    "generateImageWithVAE(vae_model, f\"{vae_model.type}_unperturbed.jpg\", latent_variables, True)"
   ]
  },
  {
   "cell_type": "code",
   "execution_count": 239,
   "metadata": {},
   "outputs": [
    {
     "data": {
      "image/png": "[encoded data removed]",
      "text/plain": [
       "<Figure size 432x288 with 1 Axes>"
      ]
     },
     "metadata": {
      "needs_background": "light"
     },
     "output_type": "display_data"
    }
   ],
   "source": [
    "# perturbate every dimension one at a time\n",
    "for i in range(latent_variables.shape[1]):\n",
    "    perturbed_latent_variables = latent_variables.clone()\n",
    "    if perturbed_latent_variables[0, i] < 0:\n",
    "        perturbed_latent_variables[0, i] += 2\n",
    "    else:\n",
    "        perturbed_latent_variables[0, i] -= 2\n",
    "    generateImageWithVAE(vae_model, f\"{vae_model.type}_{i}_perturbed.jpg\", perturbed_latent_variables, True)"
   ]
  },
  {
   "cell_type": "code",
   "execution_count": 241,
   "metadata": {},
   "outputs": [
    {
     "data": {
      "image/png": "[encoded data removed]",
      "text/plain": [
       "<Figure size 432x288 with 1 Axes>"
      ]
     },
     "metadata": {
      "needs_background": "light"
     },
     "output_type": "display_data"
    }
   ],
   "source": [
    "# perturbate chosen dimensions\n",
    "strongest_dimensions = [1, 6, 29, 36, 40, 63, 68, 77, 86, 96]\n",
    "for i in strongest_dimensions:\n",
    "    perturbed_latent_variables_1 = latent_variables.clone()\n",
    "    perturbed_latent_variables_2 = latent_variables.clone()\n",
    "    perturbed_latent_variables_1[0, i] -= 2\n",
    "    perturbed_latent_variables_2[0, i] += 2\n",
    "    generateImageWithVAE(vae_model, f\"{vae_model.type}_{i}_perturbed_1.jpg\", perturbed_latent_variables_1, True)\n",
    "    generateImageWithVAE(vae_model, f\"{vae_model.type}_{i}_perturbed_2.jpg\", perturbed_latent_variables_2, True)"
   ]
  },
  {
   "cell_type": "code",
   "execution_count": 264,
   "metadata": {},
   "outputs": [
    {
     "data": {
      "image/png": "[encoded data removed]",
      "text/plain": [
       "<Figure size 432x288 with 1 Axes>"
      ]
     },
     "metadata": {
      "needs_background": "light"
     },
     "output_type": "display_data"
    }
   ],
   "source": [
    "# create an improved image\n",
    "perturbed_latent_variables = latent_variables.clone()\n",
    "perturbed_latent_variables[0, 29] += 4  # increase sharpness\n",
    "perturbed_latent_variables[0, 40] += 1  # more round shape\n",
    "perturbed_latent_variables[0, 86] -= 1  # less artifacts\n",
    "generateImageWithVAE(vae_model, f\"{vae_model.type}_manually_improved_image.jpg\", perturbed_latent_variables, True)"
   ]
  },
  {
   "cell_type": "markdown",
   "metadata": {},
   "source": [
    "## Image interpolations"
   ]
  },
  {
   "cell_type": "code",
   "execution_count": 288,
   "metadata": {},
   "outputs": [
    {
     "data": {
      "image/png": "[encoded data removed]",
      "text/plain": [
       "<Figure size 432x288 with 1 Axes>"
      ]
     },
     "metadata": {
      "needs_background": "light"
     },
     "output_type": "display_data"
    }
   ],
   "source": [
    "z1 = sampleLatentVariables(vae_model)\n",
    "generateImageWithVAE(vae_model, f\"{vae_model.type}_z1.jpg\", z1, False)"
   ]
  },
  {
   "cell_type": "code",
   "execution_count": 289,
   "metadata": {},
   "outputs": [
    {
     "data": {
      "image/png": "[encoded data removed]",
      "text/plain": [
       "<Figure size 432x288 with 1 Axes>"
      ]
     },
     "metadata": {
      "needs_background": "light"
     },
     "output_type": "display_data"
    }
   ],
   "source": [
    "z2 = sampleLatentVariables(vae_model)\n",
    "generateImageWithVAE(vae_model, f\"{vae_model.type}_z2.jpg\", z2, False)"
   ]
  },
  {
   "cell_type": "code",
   "execution_count": 290,
   "metadata": {},
   "outputs": [
    {
     "data": {
      "image/png": "[encoded data removed]",
      "text/plain": [
       "<Figure size 432x288 with 1 Axes>"
      ]
     },
     "metadata": {
      "needs_background": "light"
     },
     "output_type": "display_data"
    }
   ],
   "source": [
    "# z interpolation\n",
    "for i in range(11):\n",
    "    alpha = i * 0.1\n",
    "    z_interpolated = alpha * z1 + (1 - alpha) * z2\n",
    "    generateImageWithVAE(vae_model, f\"{vae_model.type}_z_interpolated_alpha_{i}.jpg\", z_interpolated, True)"
   ]
  },
  {
   "cell_type": "code",
   "execution_count": 294,
   "metadata": {},
   "outputs": [
    {
     "data": {
      "image/png": "[encoded data removed]",
      "text/plain": [
       "<Figure size 432x288 with 1 Axes>"
      ]
     },
     "metadata": {
      "needs_background": "light"
     },
     "output_type": "display_data"
    }
   ],
   "source": [
    "# x interpolation\n",
    "for i in range(11):\n",
    "    alpha = i * 0.1\n",
    "    vae_model.eval()\n",
    "    x1 = vae_model.decode(z1)\n",
    "    x2 = vae_model.decode(z2)\n",
    "    x1 = x1.squeeze()\n",
    "    x2 = x2.squeeze()\n",
    "    x1 = x1 * 0.5 + 0.5\n",
    "    x2 = x2 * 0.5 + 0.5\n",
    "    x_interpolated = alpha * x1 + (1 - alpha) * x2\n",
    "    saveImg(x_interpolated, f\"{vae_model.type}_x_interpolated_alpha_{i}.jpg\")\n",
    "    x_interpolated = x_interpolated.permute(1, 2, 0)\n",
    "    plt.imshow(x_interpolated.cpu().detach().numpy())"
   ]
  },
  {
   "cell_type": "code",
   "execution_count": null,
   "metadata": {},
   "outputs": [],
   "source": []
  }
 ],
 "metadata": {
  "kernelspec": {
   "display_name": "Python 3",
   "language": "python",
   "name": "python3"
  },
  "language_info": {
   "codemirror_mode": {
    "name": "ipython",
    "version": 3
   },
   "file_extension": ".py",
   "mimetype": "text/x-python",
   "name": "python",
   "nbconvert_exporter": "python",
   "pygments_lexer": "ipython3",
   "version": "3.6.6"
  }
 },
 "nbformat": 4,
 "nbformat_minor": 1
}
