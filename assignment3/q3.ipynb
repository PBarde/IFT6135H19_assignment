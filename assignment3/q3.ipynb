{
 "cells": [
  {
   "cell_type": "markdown",
   "metadata": {},
   "source": [
    "# Assignment 3 - Q3 (SVHN)"
   ]
  },
  {
   "cell_type": "code",
   "execution_count": 84,
   "metadata": {},
   "outputs": [
    {
     "name": "stdout",
     "output_type": "stream",
     "text": [
      "Using cuda\n"
     ]
    }
   ],
   "source": [
    "import os\n",
    "import torch\n",
    "from torch import nn\n",
    "import torchvision\n",
    "from torch.autograd import  Variable\n",
    "from torch import optim\n",
    "from classify_svhn import get_data_loader\n",
    "\n",
    "import GAN  # needed to allow the reload\n",
    "import importlib\n",
    "importlib.reload(GAN)\n",
    "from GAN import Generator, Discriminator\n",
    "\n",
    "import matplotlib.pyplot as plt\n",
    "\n",
    "lr = 0.0001\n",
    "betas = (0, 0.9)\n",
    "batch_size = 64\n",
    "z_size = 100\n",
    "im_size = 32\n",
    "n_critic = 5\n",
    "num_epoch = 10\n",
    "\n",
    "if torch.cuda.is_available():\n",
    "    print(\"Using cuda\")\n",
    "    device = torch.device(\"cuda\")\n",
    "else:\n",
    "    print(\"Running on cpu\")\n",
    "    device = torch.device(\"cpu\")\n",
    "    \n",
    "G = Generator(z_size).to(device)\n",
    "D = Discriminator(im_size, device).to(device)\n",
    "\n",
    "g_optim = optim.Adam(G.parameters(), lr=lr, betas=betas)\n",
    "d_optim = optim.Adam(D.parameters(), lr=lr, betas=betas)"
   ]
  },
  {
   "cell_type": "code",
   "execution_count": 79,
   "metadata": {},
   "outputs": [],
   "source": [
    "import vae\n",
    "importlib.reload(vae)\n",
    "from vae import VAE\n",
    "\n",
    "vae_model = VAE(type='SVHN').to(device)\n",
    "vae_optim = optim.Adam(vae_model.parameters(), lr=lr, betas=betas)"
   ]
  },
  {
   "cell_type": "markdown",
   "metadata": {},
   "source": [
    "## Data"
   ]
  },
  {
   "cell_type": "code",
   "execution_count": 67,
   "metadata": {},
   "outputs": [],
   "source": [
    "def showImg(x):\n",
    "    x = x.permute(1, 2, 0)\n",
    "    plt.imshow((x.numpy() * 0.5) + 0.5)"
   ]
  },
  {
   "cell_type": "code",
   "execution_count": 3,
   "metadata": {},
   "outputs": [
    {
     "name": "stdout",
     "output_type": "stream",
     "text": [
      "Downloading http://ufldl.stanford.edu/housenumbers/train_32x32.mat to svhn\\train_32x32.mat\n",
      "Downloading http://ufldl.stanford.edu/housenumbers/test_32x32.mat to svhn\\test_32x32.mat\n"
     ]
    },
    {
     "data": {
      "image/png": "[encoded data removed]",
      "text/plain": [
       "<Figure size 432x288 with 1 Axes>"
      ]
     },
     "metadata": {
      "needs_background": "light"
     },
     "output_type": "display_data"
    }
   ],
   "source": [
    "train_loader, valid_loader, test_loader = get_data_loader(\"svhn\", batch_size)\n",
    "\n",
    "# Show an image\n",
    "real_sample, target = next(iter(train_loader))\n",
    "\n",
    "showImg(real_sample[0])"
   ]
  },
  {
   "cell_type": "code",
   "execution_count": null,
   "metadata": {},
   "outputs": [],
   "source": [
    "def train(loader):\n",
    "    d_train_loss = 0\n",
    "    \n",
    "    for epoch in range(num_epoch):\n",
    "        \n",
    "        for data_idx, real_sample in enumerate(loader):\n",
    "            G.train()\n",
    "            D.train()\n",
    "            \n",
    "            step = epoch * len(loader) + data_idx + 1\n",
    "            \n",
    "            # Train more the dicriminator\n",
    "            d_optim.zero_grad()\n",
    "            g_optim.zero_grad()\n",
    "    \n",
    "            z = Variable(torch.randn(batch_size, z_size, device=device))\n",
    "            \n",
    "            fake_sample = G(z)\n",
    "            real_sample = real_sample.to(device)\n",
    "            \n",
    "            d_loss = D.loss(real_sample, fake_sample)\n",
    "            d_loss.backward()\n",
    "            d_optim.step()\n",
    "    \n",
    "            if step % n_critic == 0:\n",
    "                # Train the generator\n",
    "                d_optim.zero_grad()\n",
    "                g_optim.zero_grad()\n",
    "            \n",
    "                z = Variable(torch.randn(batch_size, z_size, device=device))\n",
    "            \n",
    "                fake_sample = G(z)\n",
    "                fake_result = D(fake_sample)\n",
    "                g_loss = G.loss(fake_result)\n",
    "                g_loss.backward()\n",
    "                g_optim.step()\n",
    "                \n",
    "        print('====> Epoch: {} Average loss: {:.4f}'.format(\n",
    "          epoch, d_train_loss / len(loader.dataset)))\n",
    "        \n",
    "        createSample(G)"
   ]
  },
  {
   "cell_type": "code",
   "execution_count": null,
   "metadata": {},
   "outputs": [],
   "source": [
    "def createSample(generator):\n",
    "    generator.eval()\n",
    "    \n",
    "    z = Variable(torch.randn(z_size, device=device))\n",
    "    im = generator(z)\n",
    "    showImg(im)"
   ]
  },
  {
   "cell_type": "code",
   "execution_count": null,
   "metadata": {},
   "outputs": [],
   "source": [
    "train(train_loader)"
   ]
  },
  {
   "cell_type": "markdown",
   "metadata": {},
   "source": [
    "## VAE training"
   ]
  },
  {
   "cell_type": "code",
   "execution_count": 90,
   "metadata": {},
   "outputs": [],
   "source": [
    "def saveImg(x, name):\n",
    "    save_dir = 'sample/'\n",
    "    if not os.path.exists(save_dir):\n",
    "        os.mkdir(save_dir)\n",
    "    torchvision.utils.save_image(x, save_dir+name)\n",
    "\n",
    "    \n",
    "def generateImageWithVAE(model, name):\n",
    "    model.eval()\n",
    "    z = Variable(torch.randn(3, z_size, device=device))\n",
    "    x, _, _ = model.decode(z)\n",
    "    x = x * 0.5 + 0.5\n",
    "    saveImg(x, name)\n",
    "    x = x.permute(1, 2, 0)\n",
    "    plt.imshow(x.cpu().detach().numpy())"
   ]
  },
  {
   "cell_type": "code",
   "execution_count": 94,
   "metadata": {},
   "outputs": [],
   "source": [
    "def ELBO_loss_function(recon_x, x, mu, logvar):\n",
    "    # ELBO: L(θ, φ; x) = -E_z~q_φ[log p_θ(x|z)] + D_KL(q_φ(z|x)||p(z))\n",
    "    # reconstruction loss + regularizer (forcing the encoder's output to stay close to a standard Normal distribution)\n",
    "    # BCE = F.binary_cross_entropy(recon_x, x, reduction='sum')\n",
    "    MSE = nn.MSELoss(reduction='sum')(recon_x, x)\n",
    "\n",
    "    # see Appendix B from VAE paper:\n",
    "    # Kingma and Welling. Auto-Encoding Variational Bayes. ICLR, 2014\n",
    "    # https://arxiv.org/abs/1312.6114\n",
    "    # 0.5 * sum(1 + log(sigma^2) - mu^2 - sigma^2)\n",
    "    KLD = -0.5 * torch.sum(1 + logvar - mu.pow(2) - logvar.exp())\n",
    "    \n",
    "    batch_size = x.shape[0]\n",
    "    \n",
    "    return (MSE + KLD) / batch_size\n",
    "\n",
    "\n",
    "def train_vae(model, num_epoch, train_loader, optimizer):\n",
    "    for epoch in range(num_epoch):\n",
    "        model.train()\n",
    "        train_loss = 0\n",
    "        for batch_idx, (data, y) in enumerate(train_loader):\n",
    "            data = data.to(device)\n",
    "            flattened_data = data.view(-1, 3072)\n",
    "            optimizer.zero_grad()\n",
    "            recon_batch, mu, logvar = model(flattened_data)\n",
    "            loss = ELBO_loss_function(recon_batch, data, mu, logvar)\n",
    "            loss.backward()\n",
    "            train_loss += loss.item()\n",
    "            optimizer.step()\n",
    "            if batch_idx % 100 == 0:\n",
    "                print('Train Epoch: {} [{}/{} ({:.0f}%)]\\tLoss: {:.6f}'.format(\n",
    "                    epoch, batch_idx * len(data), len(train_loader.dataset),\n",
    "                    100. * batch_idx / len(train_loader),\n",
    "                    loss.item()))\n",
    "\n",
    "        print('====> Epoch: {} Average loss: {:.4f}'.format(\n",
    "              epoch, train_loss / len(train_loader)))\n",
    "        \n",
    "        # generateImageWithVAE(model, f\"vae_svhn_epoch_{epoch}.jpg\")"
   ]
  },
  {
   "cell_type": "code",
   "execution_count": 95,
   "metadata": {},
   "outputs": [
    {
     "name": "stdout",
     "output_type": "stream",
     "text": [
      "Train Epoch: 0 [0/65931 (0%)]\tLoss: 116.805061\n",
      "Train Epoch: 0 [6400/65931 (10%)]\tLoss: 116.249420\n",
      "Train Epoch: 0 [12800/65931 (19%)]\tLoss: 93.955841\n",
      "Train Epoch: 0 [19200/65931 (29%)]\tLoss: 115.484207\n",
      "Train Epoch: 0 [25600/65931 (39%)]\tLoss: 104.638992\n",
      "Train Epoch: 0 [32000/65931 (48%)]\tLoss: 107.464859\n",
      "Train Epoch: 0 [38400/65931 (58%)]\tLoss: 110.362564\n",
      "Train Epoch: 0 [44800/65931 (68%)]\tLoss: 107.487091\n",
      "Train Epoch: 0 [51200/65931 (78%)]\tLoss: 99.528549\n",
      "Train Epoch: 0 [57600/65931 (87%)]\tLoss: 103.119507\n",
      "Train Epoch: 0 [64000/65931 (97%)]\tLoss: 96.123711\n",
      "====> Epoch: 0 Average loss: 104.1066\n",
      "Train Epoch: 1 [0/65931 (0%)]\tLoss: 88.566765\n",
      "Train Epoch: 1 [6400/65931 (10%)]\tLoss: 100.086136\n",
      "Train Epoch: 1 [12800/65931 (19%)]\tLoss: 120.026741\n",
      "Train Epoch: 1 [19200/65931 (29%)]\tLoss: 94.441765\n",
      "Train Epoch: 1 [25600/65931 (39%)]\tLoss: 106.177162\n",
      "Train Epoch: 1 [32000/65931 (48%)]\tLoss: 120.037155\n",
      "Train Epoch: 1 [38400/65931 (58%)]\tLoss: 108.629448\n",
      "Train Epoch: 1 [44800/65931 (68%)]\tLoss: 90.405350\n",
      "Train Epoch: 1 [51200/65931 (78%)]\tLoss: 111.155708\n",
      "Train Epoch: 1 [57600/65931 (87%)]\tLoss: 122.852859\n",
      "Train Epoch: 1 [64000/65931 (97%)]\tLoss: 100.660080\n",
      "====> Epoch: 1 Average loss: 103.2473\n",
      "Train Epoch: 2 [0/65931 (0%)]\tLoss: 108.259529\n",
      "Train Epoch: 2 [6400/65931 (10%)]\tLoss: 101.820999\n",
      "Train Epoch: 2 [12800/65931 (19%)]\tLoss: 99.635406\n",
      "Train Epoch: 2 [19200/65931 (29%)]\tLoss: 101.230347\n",
      "Train Epoch: 2 [25600/65931 (39%)]\tLoss: 122.901474\n",
      "Train Epoch: 2 [32000/65931 (48%)]\tLoss: 139.128616\n",
      "Train Epoch: 2 [38400/65931 (58%)]\tLoss: 94.557655\n",
      "Train Epoch: 2 [44800/65931 (68%)]\tLoss: 93.761780\n",
      "Train Epoch: 2 [51200/65931 (78%)]\tLoss: 89.983032\n",
      "Train Epoch: 2 [57600/65931 (87%)]\tLoss: 105.606476\n",
      "Train Epoch: 2 [64000/65931 (97%)]\tLoss: 110.386917\n",
      "====> Epoch: 2 Average loss: 103.2224\n",
      "Train Epoch: 3 [0/65931 (0%)]\tLoss: 104.442009\n",
      "Train Epoch: 3 [6400/65931 (10%)]\tLoss: 110.483536\n",
      "Train Epoch: 3 [12800/65931 (19%)]\tLoss: 136.550873\n",
      "Train Epoch: 3 [19200/65931 (29%)]\tLoss: 96.214638\n",
      "Train Epoch: 3 [25600/65931 (39%)]\tLoss: 96.395279\n",
      "Train Epoch: 3 [32000/65931 (48%)]\tLoss: 102.980927\n",
      "Train Epoch: 3 [38400/65931 (58%)]\tLoss: 122.079918\n",
      "Train Epoch: 3 [44800/65931 (68%)]\tLoss: 100.836319\n",
      "Train Epoch: 3 [51200/65931 (78%)]\tLoss: 96.086990\n",
      "Train Epoch: 3 [57600/65931 (87%)]\tLoss: 110.408554\n",
      "Train Epoch: 3 [64000/65931 (97%)]\tLoss: 97.822296\n",
      "====> Epoch: 3 Average loss: 102.8719\n",
      "Train Epoch: 4 [0/65931 (0%)]\tLoss: 106.692612\n",
      "Train Epoch: 4 [6400/65931 (10%)]\tLoss: 94.446426\n",
      "Train Epoch: 4 [12800/65931 (19%)]\tLoss: 90.896545\n",
      "Train Epoch: 4 [19200/65931 (29%)]\tLoss: 101.299057\n",
      "Train Epoch: 4 [25600/65931 (39%)]\tLoss: 100.310646\n",
      "Train Epoch: 4 [32000/65931 (48%)]\tLoss: 114.438698\n",
      "Train Epoch: 4 [38400/65931 (58%)]\tLoss: 105.267426\n",
      "Train Epoch: 4 [44800/65931 (68%)]\tLoss: 104.401260\n",
      "Train Epoch: 4 [51200/65931 (78%)]\tLoss: 97.359306\n",
      "Train Epoch: 4 [57600/65931 (87%)]\tLoss: 85.509949\n",
      "Train Epoch: 4 [64000/65931 (97%)]\tLoss: 94.892082\n",
      "====> Epoch: 4 Average loss: 102.4027\n",
      "Train Epoch: 5 [0/65931 (0%)]\tLoss: 114.880196\n",
      "Train Epoch: 5 [6400/65931 (10%)]\tLoss: 97.267822\n",
      "Train Epoch: 5 [12800/65931 (19%)]\tLoss: 102.551842\n",
      "Train Epoch: 5 [19200/65931 (29%)]\tLoss: 99.249908\n",
      "Train Epoch: 5 [25600/65931 (39%)]\tLoss: 97.956932\n",
      "Train Epoch: 5 [32000/65931 (48%)]\tLoss: 100.841278\n",
      "Train Epoch: 5 [38400/65931 (58%)]\tLoss: 91.608315\n",
      "Train Epoch: 5 [44800/65931 (68%)]\tLoss: 98.140503\n",
      "Train Epoch: 5 [51200/65931 (78%)]\tLoss: 97.365768\n",
      "Train Epoch: 5 [57600/65931 (87%)]\tLoss: 104.822014\n",
      "Train Epoch: 5 [64000/65931 (97%)]\tLoss: 110.518250\n",
      "====> Epoch: 5 Average loss: 102.2984\n",
      "Train Epoch: 6 [0/65931 (0%)]\tLoss: 93.618454\n",
      "Train Epoch: 6 [6400/65931 (10%)]\tLoss: 93.023117\n",
      "Train Epoch: 6 [12800/65931 (19%)]\tLoss: 99.074814\n",
      "Train Epoch: 6 [19200/65931 (29%)]\tLoss: 93.722992\n",
      "Train Epoch: 6 [25600/65931 (39%)]\tLoss: 98.581177\n",
      "Train Epoch: 6 [32000/65931 (48%)]\tLoss: 97.455658\n",
      "Train Epoch: 6 [38400/65931 (58%)]\tLoss: 101.605957\n",
      "Train Epoch: 6 [44800/65931 (68%)]\tLoss: 90.562958\n",
      "Train Epoch: 6 [51200/65931 (78%)]\tLoss: 96.614510\n",
      "Train Epoch: 6 [57600/65931 (87%)]\tLoss: 87.693825\n",
      "Train Epoch: 6 [64000/65931 (97%)]\tLoss: 98.245270\n",
      "====> Epoch: 6 Average loss: 102.1329\n",
      "Train Epoch: 7 [0/65931 (0%)]\tLoss: 106.651527\n",
      "Train Epoch: 7 [6400/65931 (10%)]\tLoss: 105.308731\n",
      "Train Epoch: 7 [12800/65931 (19%)]\tLoss: 86.667526\n",
      "Train Epoch: 7 [19200/65931 (29%)]\tLoss: 102.771301\n",
      "Train Epoch: 7 [25600/65931 (39%)]\tLoss: 105.428497\n",
      "Train Epoch: 7 [32000/65931 (48%)]\tLoss: 91.719818\n",
      "Train Epoch: 7 [38400/65931 (58%)]\tLoss: 98.955948\n",
      "Train Epoch: 7 [44800/65931 (68%)]\tLoss: 87.221794\n",
      "Train Epoch: 7 [51200/65931 (78%)]\tLoss: 99.725784\n",
      "Train Epoch: 7 [57600/65931 (87%)]\tLoss: 96.514130\n",
      "Train Epoch: 7 [64000/65931 (97%)]\tLoss: 92.355507\n",
      "====> Epoch: 7 Average loss: 101.5136\n",
      "Train Epoch: 8 [0/65931 (0%)]\tLoss: 140.907410\n",
      "Train Epoch: 8 [6400/65931 (10%)]\tLoss: 108.142319\n",
      "Train Epoch: 8 [12800/65931 (19%)]\tLoss: 104.946426\n",
      "Train Epoch: 8 [19200/65931 (29%)]\tLoss: 105.348007\n",
      "Train Epoch: 8 [25600/65931 (39%)]\tLoss: 102.404633\n",
      "Train Epoch: 8 [32000/65931 (48%)]\tLoss: 85.885269\n",
      "Train Epoch: 8 [38400/65931 (58%)]\tLoss: 95.031403\n",
      "Train Epoch: 8 [44800/65931 (68%)]\tLoss: 100.227203\n",
      "Train Epoch: 8 [51200/65931 (78%)]\tLoss: 88.584076\n",
      "Train Epoch: 8 [57600/65931 (87%)]\tLoss: 97.970695\n",
      "Train Epoch: 8 [64000/65931 (97%)]\tLoss: 79.297935\n",
      "====> Epoch: 8 Average loss: 101.3134\n",
      "Train Epoch: 9 [0/65931 (0%)]\tLoss: 107.372963\n",
      "Train Epoch: 9 [6400/65931 (10%)]\tLoss: 99.765450\n",
      "Train Epoch: 9 [12800/65931 (19%)]\tLoss: 106.851677\n",
      "Train Epoch: 9 [19200/65931 (29%)]\tLoss: 93.751434\n",
      "Train Epoch: 9 [25600/65931 (39%)]\tLoss: 113.705360\n",
      "Train Epoch: 9 [32000/65931 (48%)]\tLoss: 112.645195\n",
      "Train Epoch: 9 [38400/65931 (58%)]\tLoss: 96.607315\n",
      "Train Epoch: 9 [44800/65931 (68%)]\tLoss: 103.472847\n",
      "Train Epoch: 9 [51200/65931 (78%)]\tLoss: 104.543182\n",
      "Train Epoch: 9 [57600/65931 (87%)]\tLoss: 94.421547\n",
      "Train Epoch: 9 [64000/65931 (97%)]\tLoss: 112.260399\n",
      "====> Epoch: 9 Average loss: 100.9102\n"
     ]
    }
   ],
   "source": [
    "train_vae(vae_model, num_epoch, train_loader, vae_optim)"
   ]
  },
  {
   "cell_type": "code",
   "execution_count": 96,
   "metadata": {},
   "outputs": [
    {
     "data": {
      "image/png": "[encoded data removed]",
      "text/plain": [
       "<Figure size 432x288 with 1 Axes>"
      ]
     },
     "metadata": {
      "needs_background": "light"
     },
     "output_type": "display_data"
    }
   ],
   "source": [
    "for i in range(10):\n",
    "    generateImageWithVAE(vae_model, f\"vae_svhn_30epochs_{i}.jpg\")"
   ]
  },
  {
   "cell_type": "code",
   "execution_count": null,
   "metadata": {},
   "outputs": [],
   "source": []
  }
 ],
 "metadata": {
  "kernelspec": {
   "display_name": "Python 3",
   "language": "python",
   "name": "python3"
  },
  "language_info": {
   "codemirror_mode": {
    "name": "ipython",
    "version": 3
   },
   "file_extension": ".py",
   "mimetype": "text/x-python",
   "name": "python",
   "nbconvert_exporter": "python",
   "pygments_lexer": "ipython3",
   "version": "3.6.6"
  }
 },
 "nbformat": 4,
 "nbformat_minor": 1
}
