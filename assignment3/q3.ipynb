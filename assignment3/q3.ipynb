{
 "cells": [
  {
   "cell_type": "heading",
   "metadata": {},
   "level": 1,
   "source": [
    "Assignment 3 - Q3"
   ]
  },
  {
   "cell_type": "code",
   "execution_count": null,
   "metadata": {
    "collapsed": true
   },
   "outputs": [],
   "source": [
    "import torch\n",
    "from torch import nn\n",
    "from torch.autograd import  Variable\n",
    "from torch import optim\n",
    "from classify_svhn import get_data_loader\n",
    "\n",
    "import GAN  # needed to allow the reload\n",
    "import importlib\n",
    "importlib.reload(GAN)\n",
    "from GAN import Generator, Discriminator\n",
    "\n",
    "import matplotlib.pyplot as plt\n",
    "\n",
    "lr = 0.0001\n",
    "betas = (0, 0.9)\n",
    "batch_size = 64\n",
    "z_size = 100\n",
    "im_size = 32\n",
    "n_critic = 5\n",
    "num_epoch = 10\n",
    "\n",
    "if torch.cuda.is_available():\n",
    "    print(\"Using cuda\")\n",
    "    device = torch.device(\"cuda\")\n",
    "else:\n",
    "    print(\"Running on cpu\")\n",
    "    device = torch.device(\"cpu\")\n",
    "    \n",
    "G = Generator(z_size).to(device)\n",
    "D = Discriminator(im_size, device).to(device)\n",
    "\n",
    "g_optim = optim.Adam(G.parameters(), lr=lr, betas=betas)\n",
    "d_optim = optim.Adam(D.parameters(), lr=lr, betas=betas)"
   ]
  },
  {
   "cell_type": "heading",
   "metadata": {},
   "level": 3,
   "source": [
    "Data"
   ]
  },
  {
   "cell_type": "code",
   "execution_count": null,
   "metadata": {},
   "outputs": [],
   "source": [
    "def showImg(x):\n",
    "    x = x.permute(1, 2, 0)\n",
    "    plt.imshow((x.numpy() * 0.5) + 0.5)\n",
    "    \n",
    "train_loader, valid_loader, test_loader = get_data_loader(\"svhn\", batch_size)\n",
    "\n",
    "# Show an image\n",
    "real_sample, target = next(iter(train_loader))\n",
    "\n",
    "showImg(real_sample[0])"
   ]
  },
  {
   "cell_type": "code",
   "execution_count": null,
   "metadata": {},
   "outputs": [],
   "source": [
    "def train(loader):\n",
    "    d_train_loss = 0\n",
    "    \n",
    "    for epoch in range(num_epoch):\n",
    "        \n",
    "        for data_idx, real_sample in enumerate(loader):\n",
    "            G.train()\n",
    "            D.train()\n",
    "            \n",
    "            step = epoch * len(loader) + data_idx + 1\n",
    "            \n",
    "            # Train more the dicriminator\n",
    "            d_optim.zero_grad()\n",
    "            g_optim.zero_grad()\n",
    "    \n",
    "            z = Variable(torch.randn(batch_size, z_size, device=device))\n",
    "            \n",
    "            fake_sample = G(z)\n",
    "            real_sample = real_sample.to(device)\n",
    "            \n",
    "            d_loss = D.loss(real_sample, fake_sample)\n",
    "            d_loss.backward()\n",
    "            d_optim.step()\n",
    "    \n",
    "            if step % n_critic == 0:\n",
    "                # Train the generator\n",
    "                d_optim.zero_grad()\n",
    "                g_optim.zero_grad()\n",
    "            \n",
    "                z = Variable(torch.randn(batch_size, z_size, device=device))\n",
    "            \n",
    "                fake_sample = G(z)\n",
    "                fake_result = D(fake_sample)\n",
    "                g_loss = G.loss(fake_result)\n",
    "                g_loss.backward()\n",
    "                g_optim.step()\n",
    "                \n",
    "        print('====> Epoch: {} Average loss: {:.4f}'.format(\n",
    "          epoch, d_train_loss / len(loader.dataset)))\n",
    "        \n",
    "        createSample(G)"
   ]
  },
  {
   "cell_type": "code",
   "execution_count": null,
   "metadata": {},
   "outputs": [],
   "source": [
    "def createSample(generator):\n",
    "    generator.eval()\n",
    "    \n",
    "    z = Variable(torch.randn(z_size, device=device))\n",
    "    im = generator(z)\n",
    "    showImg(im)"
   ]
  },
  {
   "cell_type": "code",
   "execution_count": null,
   "metadata": {},
   "outputs": [],
   "source": [
    "train(train_loader)"
   ]
  }
 ],
 "metadata": {
  "kernelspec": {
   "display_name": "Python 2",
   "language": "python",
   "name": "python2"
  },
  "language_info": {
   "codemirror_mode": {
    "name": "ipython",
    "version": 2
   },
   "file_extension": ".py",
   "mimetype": "text/x-python",
   "name": "python",
   "nbconvert_exporter": "python",
   "pygments_lexer": "ipython2",
   "version": "2.7.6"
  }
 },
 "nbformat": 4,
 "nbformat_minor": 0
}
